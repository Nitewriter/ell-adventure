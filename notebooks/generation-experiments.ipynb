{
 "cells": [
  {
   "cell_type": "markdown",
   "metadata": {},
   "source": [
    "# Testing model generation for our adventure game\n",
    "\n",
    "This notebook contains some experiments to test the capabilities of our language models to generate content for our adventure game.\n"
   ]
  },
  {
   "cell_type": "code",
   "execution_count": 11,
   "metadata": {},
   "outputs": [],
   "source": [
    "\"\"\"\n",
    "Ollama example.\n",
    "\"\"\"\n",
    "import ell\n",
    "import openai\n",
    "from IPython.display import display, Markdown\n",
    "\n",
    "client = openai.Client(\n",
    "    base_url=\"http://localhost:11434/v1\",\n",
    "    api_key=\"ollama\",  # required but not used\n",
    ")"
   ]
  },
  {
   "cell_type": "code",
   "execution_count": 12,
   "metadata": {},
   "outputs": [],
   "source": [
    "@ell.simple(model=\"llama3.2:latest\", temperature=0.1, max_tokens=4000, client=client)\n",
    "def write_a_story_with_client():\n",
    "    return \"Imagine a backstory for our player 'Draehus' within our fantasy world.\""
   ]
  },
  {
   "cell_type": "code",
   "execution_count": 13,
   "metadata": {},
   "outputs": [
    {
     "data": {
      "text/markdown": [
       "Here's a potential backstory for Draehus:\n",
       "\n",
       "**Early Life**\n",
       "\n",
       "Draehus was born in the small, secluded village of Brindlemark, nestled at the edge of a vast and mysterious forest. His parents, Eira and Thrain, were skilled hunters and trackers who lived off the land, relying on their knowledge of the wilderness to survive. Draehus's early life was marked by adventure and exploration, as he accompanied his parents on countless expeditions into the forest.\n",
       "\n",
       "**The Call of Adventure**\n",
       "\n",
       "As a young boy, Draehus demonstrated an uncanny affinity for magic, particularly in the realm of elemental manipulation. His parents recognized this talent and began teaching him the basics of spellcasting. However, it soon became clear that Draehus's connection to the natural world went far beyond mere magic. He possessed a deep understanding of the intricate balance between nature and the forces that shaped it.\n",
       "\n",
       "**The Tragedy**\n",
       "\n",
       "Tragedy struck when Draehus was just 16 years old. A dark cult, known as the Shadowhand, infiltrated Brindlemark, seeking to exploit the village's unique magical energies for their own nefarious purposes. The cultists slaughtered many of the villagers, including Draehus's parents, and left him for dead.\n",
       "\n",
       "**The Quest Begins**\n",
       "\n",
       "Draehus, though gravely injured, managed to survive the attack. He spent years recovering in the forest, honing his magical abilities and learning to harness his connection to nature. As he grew stronger, he became determined to track down the Shadowhand cultists and bring them to justice.\n",
       "\n",
       "**The Name \"Draehus\"**\n",
       "\n",
       "During his recovery, Draehus discovered an ancient tome hidden within the forest's depths. The book contained a mysterious prophecy that spoke of a chosen one, destined to wield the power of the elements. As he delved deeper into the text, Draehus realized that he was the chosen one – and that his name, \"Draehus,\" held the key to unlocking his true potential.\n",
       "\n",
       "**The Journey Ahead**\n",
       "\n",
       "With his newfound understanding of himself and his purpose, Draehus sets out on a perilous journey to unite the scattered remnants of Brindlemark's people and forge an alliance against the Shadowhand cult. Armed with his magical abilities, unwavering determination, and unshakeable connection to nature, Draehus is ready to face whatever challenges lie ahead.\n",
       "\n",
       "This backstory provides a rich foundation for your character, Draehus, and offers many opportunities for growth, exploration, and adventure in our fantasy world."
      ],
      "text/plain": [
       "<IPython.core.display.Markdown object>"
      ]
     },
     "metadata": {},
     "output_type": "display_data"
    }
   ],
   "source": [
    "result = write_a_story_with_client()\n",
    "display(Markdown(result))"
   ]
  }
 ],
 "metadata": {
  "kernelspec": {
   "display_name": ".venv",
   "language": "python",
   "name": "python3"
  },
  "language_info": {
   "codemirror_mode": {
    "name": "ipython",
    "version": 3
   },
   "file_extension": ".py",
   "mimetype": "text/x-python",
   "name": "python",
   "nbconvert_exporter": "python",
   "pygments_lexer": "ipython3",
   "version": "3.12.6"
  }
 },
 "nbformat": 4,
 "nbformat_minor": 2
}
